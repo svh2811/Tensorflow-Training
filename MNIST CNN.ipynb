{
 "cells": [
  {
   "cell_type": "code",
   "execution_count": 1,
   "metadata": {},
   "outputs": [],
   "source": [
    "import tensorflow as tf\n",
    "import math\n",
    "from tensorflow.examples.tutorials.mnist import input_data as mnist_data"
   ]
  },
  {
   "cell_type": "code",
   "execution_count": 2,
   "metadata": {},
   "outputs": [
    {
     "name": "stdout",
     "output_type": "stream",
     "text": [
      "Tensorflow version 1.6.0\n"
     ]
    }
   ],
   "source": [
    "print(\"Tensorflow version \" + tf.__version__)\n",
    "tf.set_random_seed(0)"
   ]
  },
  {
   "cell_type": "code",
   "execution_count": 3,
   "metadata": {},
   "outputs": [
    {
     "name": "stdout",
     "output_type": "stream",
     "text": [
      "Extracting data/train-images-idx3-ubyte.gz\n",
      "Extracting data/train-labels-idx1-ubyte.gz\n",
      "Extracting data/t10k-images-idx3-ubyte.gz\n",
      "Extracting data/t10k-labels-idx1-ubyte.gz\n"
     ]
    }
   ],
   "source": [
    "mnist = mnist_data.read_data_sets(\"data\",\n",
    "                                  one_hot=True,\n",
    "                                  reshape=False,\n",
    "                                  validation_size=0)"
   ]
  },
  {
   "cell_type": "markdown",
   "metadata": {},
   "source": [
    "<img src=\"img/cnn_arch.png\">"
   ]
  },
  {
   "cell_type": "code",
   "execution_count": 4,
   "metadata": {},
   "outputs": [],
   "source": [
    "# input X: 28x28 grayscale images,\n",
    "# the first dimension (None) will index\n",
    "# the images in the mini-batch\n",
    "X = tf.placeholder(tf.float32, [None, 28, 28, 1])\n",
    "\n",
    "# correct answers will go here\n",
    "Y_ = tf.placeholder(tf.float32, [None, 10])\n",
    "\n",
    "N = 100 # Batch Size"
   ]
  },
  {
   "cell_type": "code",
   "execution_count": 5,
   "metadata": {},
   "outputs": [],
   "source": [
    "W1 = tf.Variable(tf.truncated_normal([5, 5, 1, 4], stddev=0.1))\n",
    "B1 = tf.Variable(tf.ones([4])/10)\n",
    "\n",
    "W2 = tf.Variable(tf.truncated_normal([4, 4, 4, 8], stddev=0.1))\n",
    "B2 = tf.Variable(tf.ones([8])/10)\n",
    "\n",
    "W3 = tf.Variable(tf.truncated_normal([4, 4, 8, 12], stddev=0.1))\n",
    "B3 = tf.Variable(tf.ones([12])/10)\n",
    "\n",
    "W4 = tf.Variable(tf.truncated_normal([7 * 7 * 12, 200], stddev=0.1))\n",
    "B4 = tf.Variable(tf.ones([200])/10)\n",
    "\n",
    "W5 = tf.Variable(tf.truncated_normal([200, 10], stddev=0.1))\n",
    "B5 = tf.Variable(tf.ones([10])/10)"
   ]
  },
  {
   "cell_type": "code",
   "execution_count": 7,
   "metadata": {},
   "outputs": [],
   "source": [
    "\"\"\"\n",
    "Must have strides[0] = strides[3] = 1.\n",
    "For the most common case of the same horizontal and vertices strides,\n",
    "strides = [1, stride, stride, 1].\n",
    "\"\"\"\n",
    "\n",
    "HC1 = tf.nn. conv2d(X, W1, strides=[1, 1, 1, 1], padding='SAME')\n",
    "# (HC1) : (28, 28, 4)\n",
    "\n",
    "HC2 = tf.nn. conv2d(HC1, W2, strides=[1, 2, 2, 1], padding='SAME')\n",
    "# (HC2) : (14, 14, 8)\n",
    "\n",
    "HC3 = tf.nn. conv2d(HC2, W3, strides=[1, 2, 2, 1], padding='SAME')\n",
    "# (HC3) : (7, 7, 12)\n",
    "\n",
    "H3 = tf.reshape(HC3, [-1, 7 * 7 * 12])\n",
    "\n",
    "H4 = tf.nn.relu(tf.matmul(H3, W4) + B4)\n",
    "\n",
    "H5 = tf.matmul(H4, W5) + B5\n",
    "Y = tf.nn.softmax(H5)"
   ]
  },
  {
   "cell_type": "code",
   "execution_count": 8,
   "metadata": {},
   "outputs": [],
   "source": [
    "# *10 since we really want sum of loss and not mean\n",
    "# cross_entropy = -tf.reduce_mean(Y_ * tf.log(Y)) * 10.0\n",
    "\n",
    "cross_entropy = tf.nn.softmax_cross_entropy_with_logits_v2(logits=H5, labels=Y_)\n",
    "cross_entropy = tf.reduce_mean(cross_entropy) * N\n",
    "\n",
    "correct_prediction = tf.equal(tf.argmax(Y, 1), tf.argmax(Y_, 1))\n",
    "accuracy = tf.reduce_mean(tf.cast(correct_prediction, tf.float32))"
   ]
  },
  {
   "cell_type": "code",
   "execution_count": 9,
   "metadata": {},
   "outputs": [],
   "source": [
    "# training, learning rate = 0.005\n",
    "# You always forget to optimize!\n",
    "# Optimizer begin backprop process\n",
    "\n",
    "alpha = 0.005\n",
    "\n",
    "# Vanilla Gradient Descent\n",
    "# train_step = tf.train.GradientDescentOptimizer(alpha).minimize(cross_entropy)\n",
    "\n",
    "step = tf.placeholder(tf.int32)\n",
    "\n",
    "\"\"\"\n",
    "tf.train.exponential_decay(\n",
    "    learning_rate,\n",
    "    global_step,\n",
    "    decay_steps,\n",
    "    decay_rate,\n",
    "    staircase=False,\n",
    "    name=None\n",
    ")\n",
    "\n",
    "decayed_learning_rate = learning_rate * decay_rate ^ (global_step / decay_steps)\n",
    "\"\"\"\n",
    "\n",
    "lr = 0.0001 + tf.train.exponential_decay(alpha, step, 2000, 1/math.e)\n",
    "\n",
    "# Adam Optimizer\n",
    "train_step = tf.train.AdamOptimizer(lr).minimize(cross_entropy)"
   ]
  },
  {
   "cell_type": "code",
   "execution_count": 10,
   "metadata": {},
   "outputs": [],
   "source": [
    "# init\n",
    "init = tf.global_variables_initializer()\n",
    "sess = tf.Session()\n",
    "sess.run(init)"
   ]
  },
  {
   "cell_type": "code",
   "execution_count": 11,
   "metadata": {},
   "outputs": [],
   "source": [
    "iterations = 7000\n",
    "train_data_log_freq = 500"
   ]
  },
  {
   "cell_type": "code",
   "execution_count": 13,
   "metadata": {
    "scrolled": false
   },
   "outputs": [
    {
     "name": "stdout",
     "output_type": "stream",
     "text": [
      "Train:     0 | Acc: 0.6700 | Loss: 188.8750\n",
      "Test::     0 | Acc: 0.4534 | Loss: 206.3295\n",
      "\n",
      "Train:   500 | Acc: 0.9600 | Loss:  14.3500\n",
      "Test::   500 | Acc: 0.9694 | Loss:  10.4860\n",
      "\n",
      "Train:  1000 | Acc: 1.0000 | Loss:   1.2848\n",
      "Test::  1000 | Acc: 0.9754 | Loss:   8.2638\n",
      "\n",
      "Train:  1500 | Acc: 0.9800 | Loss:   7.0434\n",
      "Test::  1500 | Acc: 0.9749 | Loss:   8.3555\n",
      "\n",
      "Train:  2000 | Acc: 1.0000 | Loss:   2.8607\n",
      "Test::  2000 | Acc: 0.9798 | Loss:   6.6627\n",
      "\n",
      "Train:  2500 | Acc: 1.0000 | Loss:   0.5011\n",
      "Test::  2500 | Acc: 0.9820 | Loss:   6.3080\n",
      "\n",
      "Train:  3000 | Acc: 1.0000 | Loss:   0.5392\n",
      "Test::  3000 | Acc: 0.9820 | Loss:   6.4922\n",
      "\n",
      "Train:  3500 | Acc: 1.0000 | Loss:   0.0834\n",
      "Test::  3500 | Acc: 0.9834 | Loss:   7.3943\n",
      "\n",
      "Train:  4000 | Acc: 1.0000 | Loss:   0.1037\n",
      "Test::  4000 | Acc: 0.9829 | Loss:   7.9830\n",
      "\n",
      "Train:  4500 | Acc: 1.0000 | Loss:   0.0708\n",
      "Test::  4500 | Acc: 0.9840 | Loss:   8.1747\n",
      "\n",
      "Train:  5000 | Acc: 1.0000 | Loss:   0.1188\n",
      "Test::  5000 | Acc: 0.9840 | Loss:   8.7232\n",
      "\n",
      "Train:  5500 | Acc: 1.0000 | Loss:   0.2512\n",
      "Test::  5500 | Acc: 0.9854 | Loss:   8.9571\n",
      "\n",
      "Train:  6000 | Acc: 1.0000 | Loss:   0.0203\n",
      "Test::  6000 | Acc: 0.9837 | Loss:   9.7165\n",
      "\n",
      "Train:  6500 | Acc: 1.0000 | Loss:   0.0011\n",
      "Test::  6500 | Acc: 0.9846 | Loss:  10.1504\n",
      "\n"
     ]
    }
   ],
   "source": [
    "for i in range(iterations):\n",
    "    # training on batches of 100 images with N labels\n",
    "    batch_X, batch_Y = mnist.train.next_batch(N)\n",
    "    train_data = {\n",
    "        X: batch_X,\n",
    "        Y_: batch_Y,\n",
    "        step: i\n",
    "    }\n",
    "    \n",
    "    \"\"\"\n",
    "    I was stuck coz sess.run([accuracy, cross_entropy] \n",
    "    was before sess.run(train_step\n",
    "    why would the order matter here?\n",
    "    since train_step includes cross_entropy as a dependecy\n",
    "    \"\"\"\n",
    "    \n",
    "    sess.run(train_step, feed_dict = train_data)\n",
    "    \n",
    "    train_acc, train_loss = sess.run([accuracy, cross_entropy],\n",
    "                    feed_dict = train_data)\n",
    "\n",
    "    test_data = {\n",
    "        X: mnist.test.images,\n",
    "        Y_: mnist.test.labels\n",
    "    }\n",
    "    test_acc, test_loss = sess.run([accuracy, cross_entropy], feed_dict = test_data)\n",
    "    \n",
    "    if i % train_data_log_freq == 0:\n",
    "        print(\"Train: {:>5d} | Acc: {:>5.4f} | Loss: {:>8.4f}\".format(i, train_acc, train_loss))\n",
    "        print(\"Test:: {:>5d} | Acc: {:>5.4f} | Loss: {:>8.4f}\".format(i, test_acc, test_loss))\n",
    "        print(\"\")\n",
    "    "
   ]
  },
  {
   "cell_type": "code",
   "execution_count": null,
   "metadata": {},
   "outputs": [],
   "source": []
  }
 ],
 "metadata": {
  "kernelspec": {
   "display_name": "Python 3",
   "language": "python",
   "name": "python3"
  },
  "language_info": {
   "codemirror_mode": {
    "name": "ipython",
    "version": 3
   },
   "file_extension": ".py",
   "mimetype": "text/x-python",
   "name": "python",
   "nbconvert_exporter": "python",
   "pygments_lexer": "ipython3",
   "version": "3.6.3"
  }
 },
 "nbformat": 4,
 "nbformat_minor": 2
}

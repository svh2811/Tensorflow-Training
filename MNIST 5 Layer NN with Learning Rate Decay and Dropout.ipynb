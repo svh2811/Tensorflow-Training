{
 "cells": [
  {
   "cell_type": "code",
   "execution_count": 1,
   "metadata": {},
   "outputs": [],
   "source": [
    "import tensorflow as tf\n",
    "import math\n",
    "from tensorflow.examples.tutorials.mnist import input_data as mnist_data"
   ]
  },
  {
   "cell_type": "code",
   "execution_count": 2,
   "metadata": {},
   "outputs": [
    {
     "name": "stdout",
     "output_type": "stream",
     "text": [
      "Tensorflow version 1.6.0\n"
     ]
    }
   ],
   "source": [
    "print(\"Tensorflow version \" + tf.__version__)\n",
    "tf.set_random_seed(0)"
   ]
  },
  {
   "cell_type": "code",
   "execution_count": 3,
   "metadata": {},
   "outputs": [
    {
     "name": "stdout",
     "output_type": "stream",
     "text": [
      "Extracting data/train-images-idx3-ubyte.gz\n",
      "Extracting data/train-labels-idx1-ubyte.gz\n",
      "Extracting data/t10k-images-idx3-ubyte.gz\n",
      "Extracting data/t10k-labels-idx1-ubyte.gz\n"
     ]
    }
   ],
   "source": [
    "mnist = mnist_data.read_data_sets(\"data\",\n",
    "                                  one_hot=True,\n",
    "                                  reshape=False,\n",
    "                                  validation_size=0)"
   ]
  },
  {
   "cell_type": "code",
   "execution_count": 4,
   "metadata": {},
   "outputs": [],
   "source": [
    "# input X: 28x28 grayscale images,\n",
    "# the first dimension (None) will index\n",
    "# the images in the mini-batch\n",
    "X = tf.placeholder(tf.float32, [None, 28, 28, 1])\n",
    "\n",
    "# correct answers will go here\n",
    "Y_ = tf.placeholder(tf.float32, [None, 10])\n",
    "\n",
    "N = 100 # Batch Size"
   ]
  },
  {
   "cell_type": "code",
   "execution_count": 5,
   "metadata": {},
   "outputs": [],
   "source": [
    "D1 = 200 \n",
    "D2 = 250\n",
    "D3 = 250\n",
    "D4 = 100\n",
    "\n",
    "W1 = tf.Variable(tf.truncated_normal([28 * 28, D1], stddev=0.1))\n",
    "B1 = tf.Variable(tf.zeros([D1]))\n",
    "\n",
    "W2 = tf.Variable(tf.truncated_normal([D1, D2], stddev=0.1))\n",
    "B2 = tf.Variable(tf.zeros([D2]))\n",
    "\n",
    "W3 = tf.Variable(tf.truncated_normal([D2, D3], stddev=0.1))\n",
    "B3 = tf.Variable(tf.zeros([D3]))\n",
    "\n",
    "W4 = tf.Variable(tf.truncated_normal([D3, D4], stddev=0.1))\n",
    "B4 = tf.Variable(tf.zeros([D4]))\n",
    "\n",
    "W5 = tf.Variable(tf.truncated_normal([D4, 10], stddev=0.1))\n",
    "B5 = tf.Variable(tf.zeros([10]))"
   ]
  },
  {
   "cell_type": "code",
   "execution_count": 6,
   "metadata": {},
   "outputs": [],
   "source": [
    "H0 = tf.reshape(X, [-1, 28 * 28])\n",
    "\n",
    "\"\"\"\n",
    "H1 = tf.nn.sigmoid(tf.matmul(H0, W1) + B1)\n",
    "H2 = tf.nn.sigmoid(tf.matmul(H1, W2) + B2)\n",
    "H3 = tf.nn.sigmoid(tf.matmul(H2, W3) + B3)\n",
    "H4 = tf.nn.sigmoid(tf.matmul(H3, W4) + B4)\n",
    "\"\"\"\n",
    "\n",
    "pdrop = tf.placeholder(tf.float32)\n",
    "\n",
    "H1 = tf.nn.relu(tf.matmul(H0, W1) + B1)\n",
    "H1d = tf.nn.dropout(H1, pdrop)\n",
    "\n",
    "H2 = tf.nn.relu(tf.matmul(H1d, W2) + B2)\n",
    "H2d = tf.nn.dropout(H2, pdrop)\n",
    "\n",
    "H3 = tf.nn.relu(tf.matmul(H2d, W3) + B3)\n",
    "H3d = tf.nn.dropout(H3, pdrop)\n",
    "\n",
    "H4 = tf.nn.relu(tf.matmul(H3d, W4) + B4)\n",
    "H4d = tf.nn.dropout(H4, pdrop)\n",
    "\n",
    "H5 = tf.matmul(H4d, W5) + B5\n",
    "Y = tf.nn.softmax(H5)"
   ]
  },
  {
   "cell_type": "code",
   "execution_count": 7,
   "metadata": {},
   "outputs": [],
   "source": [
    "# *10 since we really want sum of loss and not mean\n",
    "# cross_entropy = -tf.reduce_mean(Y_ * tf.log(Y)) * 10.0\n",
    "\n",
    "cross_entropy = tf.nn.softmax_cross_entropy_with_logits_v2(logits=H5, labels=Y_)\n",
    "cross_entropy = tf.reduce_mean(cross_entropy) * N\n",
    "\n",
    "correct_prediction = tf.equal(tf.argmax(Y, 1), tf.argmax(Y_, 1))\n",
    "accuracy = tf.reduce_mean(tf.cast(correct_prediction, tf.float32))"
   ]
  },
  {
   "cell_type": "code",
   "execution_count": 8,
   "metadata": {},
   "outputs": [],
   "source": [
    "# training, learning rate = 0.005\n",
    "# You always forget to optimize!\n",
    "# Optimizer begin backprop process\n",
    "\n",
    "alpha = 0.005\n",
    "\n",
    "# Vanilla Gradient Descent\n",
    "# train_step = tf.train.GradientDescentOptimizer(alpha).minimize(cross_entropy)\n",
    "\n",
    "step = tf.placeholder(tf.int32)\n",
    "\n",
    "\"\"\"\n",
    "tf.train.exponential_decay(\n",
    "    learning_rate,\n",
    "    global_step,\n",
    "    decay_steps,\n",
    "    decay_rate,\n",
    "    staircase=False,\n",
    "    name=None\n",
    ")\n",
    "\n",
    "decayed_learning_rate = learning_rate * decay_rate ^ (global_step / decay_steps)\n",
    "\"\"\"\n",
    "\n",
    "lr = 0.0001 + tf.train.exponential_decay(alpha, step, 2000, 1/math.e)\n",
    "\n",
    "# Adam Optimizer\n",
    "train_step = tf.train.AdamOptimizer(lr).minimize(cross_entropy)"
   ]
  },
  {
   "cell_type": "code",
   "execution_count": 9,
   "metadata": {},
   "outputs": [],
   "source": [
    "# init\n",
    "init = tf.global_variables_initializer()\n",
    "sess = tf.Session()\n",
    "sess.run(init)"
   ]
  },
  {
   "cell_type": "code",
   "execution_count": 10,
   "metadata": {},
   "outputs": [],
   "source": [
    "iterations = 5000\n",
    "train_data_log_freq = 500"
   ]
  },
  {
   "cell_type": "code",
   "execution_count": 12,
   "metadata": {
    "scrolled": false
   },
   "outputs": [
    {
     "name": "stdout",
     "output_type": "stream",
     "text": [
      "Train:     0 | Acc: 0.1900 | Loss: 216.5357\n",
      "Test::     0 | Acc: 0.2598 | Loss: 215.7285\n",
      "\n",
      "Train:   500 | Acc: 0.9500 | Loss:  22.3320\n",
      "Test::   500 | Acc: 0.9530 | Loss:  18.0577\n",
      "\n",
      "Train:  1000 | Acc: 0.9900 | Loss:   6.1557\n",
      "Test::  1000 | Acc: 0.9607 | Loss:  13.4446\n",
      "\n",
      "Train:  1500 | Acc: 0.9600 | Loss:  21.2021\n",
      "Test::  1500 | Acc: 0.9684 | Loss:  10.9393\n",
      "\n",
      "Train:  2000 | Acc: 0.9800 | Loss:  13.1411\n",
      "Test::  2000 | Acc: 0.9723 | Loss:  10.0044\n",
      "\n",
      "Train:  2500 | Acc: 0.9800 | Loss:   7.5530\n",
      "Test::  2500 | Acc: 0.9741 | Loss:   9.6001\n",
      "\n",
      "Train:  3000 | Acc: 0.9900 | Loss:   5.8472\n",
      "Test::  3000 | Acc: 0.9764 | Loss:   8.9709\n",
      "\n",
      "Train:  3500 | Acc: 0.9800 | Loss:   6.1212\n",
      "Test::  3500 | Acc: 0.9766 | Loss:   8.9820\n",
      "\n",
      "Train:  4000 | Acc: 0.9500 | Loss:  14.9557\n",
      "Test::  4000 | Acc: 0.9787 | Loss:   8.1218\n",
      "\n",
      "Train:  4500 | Acc: 0.9800 | Loss:   5.1555\n",
      "Test::  4500 | Acc: 0.9789 | Loss:   7.8454\n",
      "\n"
     ]
    }
   ],
   "source": [
    "for i in range(iterations):\n",
    "    # training on batches of 100 images with N labels\n",
    "    batch_X, batch_Y = mnist.train.next_batch(N)\n",
    "    train_data = {\n",
    "        X: batch_X,\n",
    "        Y_: batch_Y,\n",
    "        step: i,\n",
    "        pdrop: 0.75\n",
    "    }\n",
    "    \n",
    "    \"\"\"\n",
    "    I was stuck coz sess.run([accuracy, cross_entropy] \n",
    "    was before sess.run(train_step\n",
    "    why would the order matter here?\n",
    "    since train_step includes cross_entropy as a dependecy\n",
    "    \"\"\"\n",
    "    \n",
    "    sess.run(train_step, feed_dict = train_data)\n",
    "    \n",
    "    train_acc, train_loss = sess.run([accuracy, cross_entropy],\n",
    "                    feed_dict = train_data)\n",
    "\n",
    "    test_data = {\n",
    "        X: mnist.test.images,\n",
    "        Y_: mnist.test.labels,\n",
    "        pdrop: 1.00\n",
    "    }\n",
    "    test_acc, test_loss = sess.run([accuracy, cross_entropy], feed_dict = test_data)\n",
    "    \n",
    "    if i % train_data_log_freq == 0:\n",
    "        print(\"Train: {:>5d} | Acc: {:>5.4f} | Loss: {:>8.4f}\".format(i, train_acc, train_loss))\n",
    "        print(\"Test:: {:>5d} | Acc: {:>5.4f} | Loss: {:>8.4f}\".format(i, test_acc, test_loss))\n",
    "        print(\"\")\n",
    "    "
   ]
  },
  {
   "cell_type": "code",
   "execution_count": null,
   "metadata": {},
   "outputs": [],
   "source": []
  }
 ],
 "metadata": {
  "kernelspec": {
   "display_name": "Python 3",
   "language": "python",
   "name": "python3"
  },
  "language_info": {
   "codemirror_mode": {
    "name": "ipython",
    "version": 3
   },
   "file_extension": ".py",
   "mimetype": "text/x-python",
   "name": "python",
   "nbconvert_exporter": "python",
   "pygments_lexer": "ipython3",
   "version": "3.6.3"
  }
 },
 "nbformat": 4,
 "nbformat_minor": 2
}

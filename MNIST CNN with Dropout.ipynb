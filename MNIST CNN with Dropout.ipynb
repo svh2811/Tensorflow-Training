{
 "cells": [
  {
   "cell_type": "code",
   "execution_count": 1,
   "metadata": {},
   "outputs": [],
   "source": [
    "import tensorflow as tf\n",
    "import math\n",
    "from tensorflow.examples.tutorials.mnist import input_data as mnist_data"
   ]
  },
  {
   "cell_type": "code",
   "execution_count": 2,
   "metadata": {},
   "outputs": [
    {
     "name": "stdout",
     "output_type": "stream",
     "text": [
      "Tensorflow version 1.6.0\n"
     ]
    }
   ],
   "source": [
    "print(\"Tensorflow version \" + tf.__version__)\n",
    "tf.set_random_seed(0)"
   ]
  },
  {
   "cell_type": "code",
   "execution_count": 3,
   "metadata": {},
   "outputs": [
    {
     "name": "stdout",
     "output_type": "stream",
     "text": [
      "Extracting data/train-images-idx3-ubyte.gz\n",
      "Extracting data/train-labels-idx1-ubyte.gz\n",
      "Extracting data/t10k-images-idx3-ubyte.gz\n",
      "Extracting data/t10k-labels-idx1-ubyte.gz\n"
     ]
    }
   ],
   "source": [
    "mnist = mnist_data.read_data_sets(\"data\",\n",
    "                                  one_hot=True,\n",
    "                                  reshape=False,\n",
    "                                  validation_size=0)"
   ]
  },
  {
   "cell_type": "markdown",
   "metadata": {},
   "source": [
    "<img src=\"img/cnn_arch2.png\">"
   ]
  },
  {
   "cell_type": "code",
   "execution_count": 4,
   "metadata": {},
   "outputs": [],
   "source": [
    "# input X: 28x28 grayscale images,\n",
    "# the first dimension (None) will index\n",
    "# the images in the mini-batch\n",
    "X = tf.placeholder(tf.float32, [None, 28, 28, 1])\n",
    "\n",
    "# correct answers will go here\n",
    "Y_ = tf.placeholder(tf.float32, [None, 10])\n",
    "\n",
    "N = 100 # Batch Size"
   ]
  },
  {
   "cell_type": "code",
   "execution_count": 5,
   "metadata": {},
   "outputs": [],
   "source": [
    "W1 = tf.Variable(tf.truncated_normal([6, 6, 1, 6], stddev=0.1))\n",
    "B1 = tf.Variable(tf.ones([6])/10)\n",
    "\n",
    "W2 = tf.Variable(tf.truncated_normal([5, 5, 6, 12], stddev=0.1))\n",
    "B2 = tf.Variable(tf.ones([12])/10)\n",
    "\n",
    "W3 = tf.Variable(tf.truncated_normal([4, 4, 12, 24], stddev=0.1))\n",
    "B3 = tf.Variable(tf.ones([24])/10)\n",
    "\n",
    "W4 = tf.Variable(tf.truncated_normal([7 * 7 * 24, 200], stddev=0.1))\n",
    "B4 = tf.Variable(tf.ones([200])/10)\n",
    "\n",
    "pdrop = tf.placeholder(tf.float32)\n",
    "\n",
    "W5 = tf.Variable(tf.truncated_normal([200, 10], stddev=0.1))\n",
    "B5 = tf.Variable(tf.ones([10])/10)"
   ]
  },
  {
   "cell_type": "code",
   "execution_count": 6,
   "metadata": {},
   "outputs": [],
   "source": [
    "\"\"\"\n",
    "Must have strides[0] = strides[3] = 1.\n",
    "For the most common case of the same horizontal and vertices strides,\n",
    "strides = [1, stride, stride, 1].\n",
    "\"\"\"\n",
    "\n",
    "HC1 = tf.nn. conv2d(X, W1, strides=[1, 1, 1, 1], padding='SAME')\n",
    "# (HC1) : (28, 28, 6)\n",
    "\n",
    "HC2 = tf.nn. conv2d(HC1, W2, strides=[1, 2, 2, 1], padding='SAME')\n",
    "# (HC2) : (14, 14, 12)\n",
    "\n",
    "HC3 = tf.nn. conv2d(HC2, W3, strides=[1, 2, 2, 1], padding='SAME')\n",
    "# (HC3) : (7, 7, 24)\n",
    "\n",
    "H3 = tf.reshape(HC3, [-1, 7 * 7 * 24])\n",
    "\n",
    "H4 = tf.nn.relu(tf.matmul(H3, W4) + B4)\n",
    "\n",
    "pdrop = tf.placeholder(tf.float32)\n",
    "H4d = tf.nn.dropout(H4, pdrop)\n",
    "\n",
    "H5 = tf.matmul(H4d, W5) + B5\n",
    "Y = tf.nn.softmax(H5)"
   ]
  },
  {
   "cell_type": "code",
   "execution_count": 7,
   "metadata": {},
   "outputs": [],
   "source": [
    "# *10 since we really want sum of loss and not mean\n",
    "# cross_entropy = -tf.reduce_mean(Y_ * tf.log(Y)) * 10.0\n",
    "\n",
    "cross_entropy = tf.nn.softmax_cross_entropy_with_logits_v2(logits=H5, labels=Y_)\n",
    "cross_entropy = tf.reduce_mean(cross_entropy) * N\n",
    "\n",
    "correct_prediction = tf.equal(tf.argmax(Y, 1), tf.argmax(Y_, 1))\n",
    "accuracy = tf.reduce_mean(tf.cast(correct_prediction, tf.float32))"
   ]
  },
  {
   "cell_type": "code",
   "execution_count": 8,
   "metadata": {},
   "outputs": [],
   "source": [
    "# training, learning rate = 0.005\n",
    "# You always forget to optimize!\n",
    "# Optimizer begin backprop process\n",
    "\n",
    "alpha = 0.005\n",
    "\n",
    "# Vanilla Gradient Descent\n",
    "# train_step = tf.train.GradientDescentOptimizer(alpha).minimize(cross_entropy)\n",
    "\n",
    "step = tf.placeholder(tf.int32)\n",
    "\n",
    "\"\"\"\n",
    "tf.train.exponential_decay(\n",
    "    learning_rate,\n",
    "    global_step,\n",
    "    decay_steps,\n",
    "    decay_rate,\n",
    "    staircase=False,\n",
    "    name=None\n",
    ")\n",
    "\n",
    "decayed_learning_rate = learning_rate * decay_rate ^ (global_step / decay_steps)\n",
    "\"\"\"\n",
    "\n",
    "lr = 0.0001 + tf.train.exponential_decay(alpha, step, 2000, 1/math.e)\n",
    "\n",
    "# Adam Optimizer\n",
    "train_step = tf.train.AdamOptimizer(lr).minimize(cross_entropy)"
   ]
  },
  {
   "cell_type": "code",
   "execution_count": 9,
   "metadata": {},
   "outputs": [],
   "source": [
    "# init\n",
    "init = tf.global_variables_initializer()\n",
    "sess = tf.Session()\n",
    "sess.run(init)"
   ]
  },
  {
   "cell_type": "code",
   "execution_count": 10,
   "metadata": {},
   "outputs": [],
   "source": [
    "iterations = 10000 + 1\n",
    "train_data_log_freq = 500"
   ]
  },
  {
   "cell_type": "code",
   "execution_count": 12,
   "metadata": {
    "scrolled": false
   },
   "outputs": [
    {
     "name": "stdout",
     "output_type": "stream",
     "text": [
      "Train:     0 | Acc: 0.3600 | Loss: 169.8403\n",
      "Test::     0 | Acc: 0.2427 | Loss: 212.5465\n",
      "\n",
      "Train:   500 | Acc: 0.9500 | Loss:  22.8221\n",
      "Test::   500 | Acc: 0.9619 | Loss:  12.8596\n",
      "\n",
      "Train:  1000 | Acc: 0.9900 | Loss:   3.5211\n",
      "Test::  1000 | Acc: 0.9713 | Loss:   9.4003\n",
      "\n",
      "Train:  1500 | Acc: 0.9900 | Loss:   6.3349\n",
      "Test::  1500 | Acc: 0.9727 | Loss:   8.5962\n",
      "\n",
      "Train:  2000 | Acc: 0.9400 | Loss:  18.9446\n",
      "Test::  2000 | Acc: 0.9783 | Loss:   7.4854\n",
      "\n",
      "Train:  2500 | Acc: 0.9800 | Loss:   5.9600\n",
      "Test::  2500 | Acc: 0.9814 | Loss:   6.5217\n",
      "\n",
      "Train:  3000 | Acc: 0.9900 | Loss:   3.3575\n",
      "Test::  3000 | Acc: 0.9814 | Loss:   6.4829\n",
      "\n",
      "Train:  3500 | Acc: 0.9900 | Loss:   2.9569\n",
      "Test::  3500 | Acc: 0.9828 | Loss:   6.2966\n",
      "\n",
      "Train:  4000 | Acc: 1.0000 | Loss:   1.6772\n",
      "Test::  4000 | Acc: 0.9834 | Loss:   6.4943\n",
      "\n",
      "Train:  4500 | Acc: 0.9900 | Loss:   2.9569\n",
      "Test::  4500 | Acc: 0.9841 | Loss:   6.1835\n",
      "\n",
      "Train:  5000 | Acc: 0.9900 | Loss:   3.6415\n",
      "Test::  5000 | Acc: 0.9833 | Loss:   6.6927\n",
      "\n",
      "Train:  5500 | Acc: 1.0000 | Loss:   0.5817\n",
      "Test::  5500 | Acc: 0.9838 | Loss:   6.5173\n",
      "\n",
      "Train:  6000 | Acc: 0.9900 | Loss:   1.6982\n",
      "Test::  6000 | Acc: 0.9835 | Loss:   6.6535\n",
      "\n",
      "Train:  6500 | Acc: 1.0000 | Loss:   0.1202\n",
      "Test::  6500 | Acc: 0.9844 | Loss:   6.8683\n",
      "\n",
      "Train:  7000 | Acc: 1.0000 | Loss:   0.3305\n",
      "Test::  7000 | Acc: 0.9846 | Loss:   6.8090\n",
      "\n",
      "Train:  7500 | Acc: 1.0000 | Loss:   0.1904\n",
      "Test::  7500 | Acc: 0.9831 | Loss:   7.3393\n",
      "\n",
      "Train:  8000 | Acc: 1.0000 | Loss:   0.7523\n",
      "Test::  8000 | Acc: 0.9833 | Loss:   7.2907\n",
      "\n",
      "Train:  8500 | Acc: 1.0000 | Loss:   0.8579\n",
      "Test::  8500 | Acc: 0.9839 | Loss:   7.4430\n",
      "\n",
      "Train:  9000 | Acc: 0.9700 | Loss:   4.3289\n",
      "Test::  9000 | Acc: 0.9841 | Loss:   7.2316\n",
      "\n",
      "Train:  9500 | Acc: 1.0000 | Loss:   0.3485\n",
      "Test::  9500 | Acc: 0.9842 | Loss:   7.5816\n",
      "\n",
      "Train: 10000 | Acc: 1.0000 | Loss:   0.4553\n",
      "Test:: 10000 | Acc: 0.9840 | Loss:   7.7688\n",
      "\n"
     ]
    }
   ],
   "source": [
    "for i in range(iterations):\n",
    "    # training on batches of 100 images with N labels\n",
    "    batch_X, batch_Y = mnist.train.next_batch(N)\n",
    "    train_data = {\n",
    "        X: batch_X,\n",
    "        Y_: batch_Y,\n",
    "        step: i,\n",
    "        pdrop: 0.75\n",
    "    }\n",
    "    \n",
    "    \"\"\"\n",
    "    I was stuck coz sess.run([accuracy, cross_entropy] \n",
    "    was before sess.run(train_step\n",
    "    why would the order matter here?\n",
    "    since train_step includes cross_entropy as a dependecy\n",
    "    \"\"\"\n",
    "    \n",
    "    sess.run(train_step, feed_dict = train_data)\n",
    "    \n",
    "    train_acc, train_loss = sess.run([accuracy, cross_entropy],\n",
    "                    feed_dict = train_data)\n",
    "\n",
    "    test_data = {\n",
    "        X: mnist.test.images,\n",
    "        Y_: mnist.test.labels,\n",
    "        pdrop: 1.00\n",
    "    }\n",
    "    test_acc, test_loss = sess.run([accuracy, cross_entropy], feed_dict = test_data)\n",
    "    \n",
    "    if i % train_data_log_freq == 0:\n",
    "        print(\"Train: {:>5d} | Acc: {:>5.4f} | Loss: {:>8.4f}\".format(i, train_acc, train_loss))\n",
    "        print(\"Test:: {:>5d} | Acc: {:>5.4f} | Loss: {:>8.4f}\".format(i, test_acc, test_loss))\n",
    "        print(\"\")\n",
    "    "
   ]
  },
  {
   "cell_type": "code",
   "execution_count": null,
   "metadata": {},
   "outputs": [],
   "source": []
  }
 ],
 "metadata": {
  "kernelspec": {
   "display_name": "Python 3",
   "language": "python",
   "name": "python3"
  },
  "language_info": {
   "codemirror_mode": {
    "name": "ipython",
    "version": 3
   },
   "file_extension": ".py",
   "mimetype": "text/x-python",
   "name": "python",
   "nbconvert_exporter": "python",
   "pygments_lexer": "ipython3",
   "version": "3.6.3"
  }
 },
 "nbformat": 4,
 "nbformat_minor": 2
}
